{
 "cells": [
  {
   "cell_type": "code",
   "execution_count": 72,
   "metadata": {
    "collapsed": true
   },
   "outputs": [],
   "source": [
    "import os\n",
    "import numpy as np\n",
    "import pandas as pd\n",
    "import matplotlib.pyplot as plt\n",
    "import seaborn as sns\n",
    "from scipy import stats as sp\n",
    "import csv"
   ]
  },
  {
   "cell_type": "code",
   "execution_count": null,
   "metadata": {
    "collapsed": true
   },
   "outputs": [],
   "source": [
    "# Import player data and historical results for all countries\n",
    "raw_data_path = 'data/'\n",
    "\n",
    "prior = pd.read_csv(raw_data_path + 'results.csv')\n",
    "fifa_dataset = pd.read_csv(raw_data_path + 'CompleteDataset.csv')\n",
    "\n",
    "# drop unwanted fields from both data sets\n",
    "fifa_dataset.drop(labels = ['Unnamed: 0', 'Age', 'Photo', 'Flag', 'Club', 'Club Logo', 'Wage'], axis = 1, inplace = True)\n",
    "prior.drop(labels = ['city', 'country', 'tournament'], axis = 1, inplace = True)\n",
    "prior = prior[prior.date > '1990-01-01']\n",
    "\n",
    "\n",
    "# only interested in countries that are qualified for the WC\n",
    "# maybe reduce this to 16 countries post group stage for faster computation (other 2^32 simulations)\n",
    "qualified_countries = ['Egypt', 'Morocco', 'Nigeria', 'Senegal', 'Tunisia', 'Australia', 'Iran', 'Japan', 'Korea Republic', 'Saudi Arabia', 'Belgium', 'Croatia', 'Denmark', 'England', 'France', 'Germany', 'Iceland', 'Poland', 'Portugal', 'Russia', 'Serbia', 'Spain', 'Sweden', 'Switzerland', 'Costa Rica', 'Mexico', 'Panama', 'Argentina', 'Brazil', 'Colombia', 'Peru', 'Uruguay']"
   ]
  },
  {
   "cell_type": "code",
   "execution_count": 31,
   "metadata": {
    "collapsed": true
   },
   "outputs": [],
   "source": [
    "# get data for qualified countries only\n",
    "fifa_dataset = fifa_dataset[fifa_dataset['Nationality'].isin(qualified_countries)].fillna(0)\n",
    "prior = prior[(prior['home_team'].isin(qualified_countries) & prior['away_team'].isin(qualified_countries))]\n",
    "\n",
    "# get remaining potential\n",
    "fifa_dataset['Remaining Potential'] = fifa_dataset['Potential'] - fifa_dataset['Overall']\n",
    "\n",
    "# get only one preferred position (first only)\n",
    "# i wrote a function to get the position with max value - it's in archives -- but this is simpler\n",
    "fifa_dataset['Preferred Position'] = fifa_dataset['Preferred Positions'].str.split().str[0]"
   ]
  },
  {
   "cell_type": "code",
   "execution_count": 32,
   "metadata": {
    "collapsed": true
   },
   "outputs": [],
   "source": [
    "# set the general formations for squads to get the max potential \n",
    "squad_352_strict = ['GK', 'LB|LWB', 'CB', 'RB|RWB', 'LM|W$', 'RM|W$', 'CM', 'CM|CAM|CDM', 'CM|CAM|CDM', 'W$|T$', 'W$|T$']\n",
    "squad_442_strict = ['GK', 'LB|LWB', 'CB', 'CB', 'RB|RWB', 'LM|W$', 'RM|W$', 'CM', 'CM|CAM|CDM', 'W$|T$', 'W$|T$']\n",
    "squad_433_strict = ['GK', 'LB|LWB', 'CB', 'CB', 'RB|RWB', 'CM|LM|W$', 'CM|RM|W$', 'CM|CAM|CDM', 'W$|T$', 'W$|T$', 'W$|T$']\n",
    "squad_343_strict = ['GK', 'LB|LWB', 'CB', 'RB|RWB', 'LM|W$', 'RM|W$', 'CM|CAM|CDM', 'CM|CAM|CDM', 'W$|T$', 'W$|T$', 'W$|T$']\n",
    "squad_532_strict = ['GK', 'LB|LWB', 'CB|LWB|RWB', 'CB|LWB|RWB', 'CB|LWB|RWB', 'RB|RWB', 'M$|W$', 'M$|W$', 'M$|W$', 'W$|T$', 'W$|T$']\n",
    "\n",
    "squad_352_adj = ['GK', 'B$', 'B$', 'B$', 'M$|W$|T$', 'M$|W$|T$', 'M$|W$|T$', 'M$|W$|T$', 'M$|W$|T$', 'W$|T$|M$', 'W$|T$|M$']\n",
    "squad_442_adj = ['GK', 'B$', 'B$', 'B$', 'B$', 'M$|W$|T$', 'M$|W$|T$', 'M$|W$|T$', 'M$|W$|T$', 'W$|T$|M$', 'W$|T$|M$']\n",
    "squad_433_adj = ['GK', 'B$', 'B$', 'B$', 'B$', 'M$|W$|T$', 'M$|W$|T$', 'M$|W$|T$', 'W$|T$|M$', 'W$|T$|M$', 'W$|T$|M$']\n",
    "squad_343_adj = ['GK', 'B$', 'B$', 'B$', 'M$|W$|T$', 'M$|W$|T$', 'M$|W$|T$', 'M$|W$|T$', 'W$|T$|M$', 'W$|T$|M$', 'W$|T$|M$']\n",
    "squad_532_adj = ['GK', 'B$', 'B$', 'B$', 'B$', 'B$', 'M$|W$|T$', 'M$|W$|T$', 'M$|W$|T$', 'W$|T$|M$', 'W$|T$|M$']\n",
    "\n",
    "midfield = ['CDM', 'CM', 'RM', 'LM']\n",
    "defense = ['GK', 'LB', 'CB', 'RB', 'LWB', 'RWB']\n",
    "attack = ['LW', 'RW', 'ST', 'CAM']\n",
    "\n",
    "squad_list_strict = [squad_352_strict, squad_442_strict, squad_433_strict, squad_343_strict, squad_532_strict]\n",
    "squad_list_adj = [squad_352_adj, squad_442_adj, squad_433_adj, squad_343_adj, squad_532_adj]\n",
    "squad_name = ['3-5-2', '4-4-2', '4-3-3', '3-4-3', '5-3-2']"
   ]
  },
  {
   "cell_type": "code",
   "execution_count": null,
   "metadata": {
    "collapsed": true
   },
   "outputs": [],
   "source": [
    "def get_country_roster(country):\n",
    "# get all players in a country\n",
    "    return fifa_dataset[fifa_dataset['Nationality'] == country]\n",
    "\n",
    "def get_best_squad_n(formation, nationality, df, measurement = 'Potential'):\n",
    "# finds the best 11 players given formation    \n",
    "# returns overall_squad_rating, squad_list, squad_stats (i.e. positions and ratings)\n",
    "    df_copy = df.copy()\n",
    "    df_copy = df_copy[df_copy['Nationality'] == nationality]\n",
    "    store = []\n",
    "    team = []\n",
    "    for i in formation:\n",
    "        store.append([df_copy.loc[[df_copy[df_copy['Preferred Position'].str.contains(i)][measurement].idxmax()]]['Preferred Position'].to_string(index = False), df_copy[df_copy['Preferred Position'].str.contains(i)][measurement].max()])\n",
    "        team.append(df_copy.loc[[df_copy[df_copy['Preferred Position'].str.contains(i)][measurement].idxmax()]]['Name'].to_string(index = False))\n",
    "        df_copy.drop(df_copy[df_copy['Preferred Position'].str.contains(i)][measurement].idxmax(), inplace = True)\n",
    "    return np.mean([x[1] for x in store]).round(2), np.array(team), pd.DataFrame(np.array(store).reshape(11,2), columns = ['Position', measurement]).to_string(index = False)\n",
    "\n",
    "def get_best_formation_all(squad_list, country):\n",
    "# finds the best formation for the given team \n",
    "# returns the best_rating, best_squad_list, best_formation, and squad_stats (i.e. positions and ratings)\n",
    "    best_rating = 0\n",
    "    best_squad, best_formation = [], []\n",
    "    for i, formation in enumerate(squad_list):\n",
    "        potRating, pot_squad, squad_info = get_best_squad_n(formation, country, fifa_dataset, 'Potential')\n",
    "        if potRating > best_rating:\n",
    "            best_rating = potRating\n",
    "            best_squad = pot_squad\n",
    "            best_formation = squad_name[i]\n",
    "    return best_rating, best_squad, best_formation, squad_info\n",
    "    \n",
    "def get_team_stats(squad_stats):\n",
    "# gets the stats for attack, defence and midfield for a team\n",
    "    midRating, defRating, attRating  = [], [], []\n",
    "    for player in squad_stats.split('\\n'):\n",
    "        pos, rating = player.split()[0], player.split()[-1]\n",
    "        if pos in midfield: midRating.append(float(rating))\n",
    "        if pos in defense: defRating.append(float(rating))\n",
    "        if pos in attack: attRating.append(float(rating))\n",
    "    return np.mean(midRating).round(2), np.mean(defRating).round(2), np.mean(attRating).round(2)"
   ]
  },
  {
   "cell_type": "code",
   "execution_count": 145,
   "metadata": {
    "collapsed": true,
    "scrolled": true
   },
   "outputs": [],
   "source": [
    "# create data-set with team information\n",
    "def generate_team_stats():\n",
    "    d = []\n",
    "    for country in qualified_countries:\n",
    "            best_rating, best_squad, best_formation, squad_stats = get_best_formation_all(squad_list_adj, country)\n",
    "            mid_rating, def_rating, att_rating = get_team_stats(squad_stats)\n",
    "            if best_rating > 84.0: tier = 1\n",
    "            elif best_rating > 77.0: tier = 2\n",
    "            else: tier = 3\n",
    "            d.append({'Country': country, 'Rating': best_rating, 'Squad': best_squad, 'Defence': def_rating, 'Midfield': mid_rating, 'Attack': att_rating, 'Formation': best_formation,'Tier': tier})\n",
    "\n",
    "    processed_data = pd.DataFrame(d).reindex_axis(['Country', 'Squad', 'Formation', 'Tier', 'Rating', 'Attack', 'Midfield', 'Defence'], axis = 1).set_index('Country')\n",
    "    processed_data.to_csv('data/WC18_processed.csv')\n",
    "    return processed_data\n",
    "\n",
    "# create data-set with historical data of match up for prior information\n",
    "def generate_prior_data(stats):\n",
    "    d = []\n",
    "    for countryA in qualified_countries:\n",
    "        for countryB in qualified_countries:\n",
    "            if countryA == countryB: continue\n",
    "            try:\n",
    "                xA = np.mean(map(float, prior[(prior['home_team'] == countryA) & (prior['away_team'] == countryB)]['home_score'].to_string(index = False).split('\\n')) + map(float, prior[(prior['home_team'] == countryB) & (prior['away_team'] == countryA)]['away_score'].to_string(index = False).split('\\n'))).round(2)\n",
    "                xB = np.mean(map(float, prior[(prior['home_team'] == countryB) & (prior['away_team'] == countryA)]['home_score'].to_string(index = False).split('\\n')) + map(float, prior[(prior['home_team'] == countryA) & (prior['away_team'] == countryB)]['away_score'].to_string(index = False).split('\\n'))).round(2)\n",
    "            except:\n",
    "                # use a uniform prior\n",
    "                xA = int(stats[stats.index == countryB]['Tier'].get_values()) \n",
    "                xB = int(stats[stats.index == countryA]['Tier'].get_values())\n",
    "            d.append({'CountryA': countryA, 'CountryB': countryB, 'meanScoreA': xA, 'meanScoreB': xB})\n",
    "    processed_data = pd.DataFrame(d).reindex_axis(['CountryA', 'meanScoreA', 'CountryB', 'meanScoreB'], axis = 1).set_index(['CountryA', 'CountryB'])\n",
    "    processed_data.to_csv('data/WC18_prior.csv')\n"
   ]
  },
  {
   "cell_type": "code",
   "execution_count": 146,
   "metadata": {},
   "outputs": [],
   "source": [
    "stats = generate_team_stats()\n",
    "generate_prior_data(stats)"
   ]
  }
 ],
 "metadata": {
  "kernelspec": {
   "display_name": "Python 2",
   "language": "python",
   "name": "python2"
  },
  "language_info": {
   "codemirror_mode": {
    "name": "ipython",
    "version": 2
   },
   "file_extension": ".py",
   "mimetype": "text/x-python",
   "name": "python",
   "nbconvert_exporter": "python",
   "pygments_lexer": "ipython2",
   "version": "2.7.14"
  }
 },
 "nbformat": 4,
 "nbformat_minor": 2
}
