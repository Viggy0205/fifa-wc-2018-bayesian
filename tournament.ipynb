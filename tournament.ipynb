{
 "cells": [
  {
   "cell_type": "code",
   "execution_count": 1,
   "metadata": {
    "collapsed": true
   },
   "outputs": [],
   "source": [
    "import numpy as np\n",
    "import pandas as pd\n",
    "#%%!from scikit import \n"
   ]
  },
  {
   "cell_type": "code",
   "execution_count": 4,
   "metadata": {},
   "outputs": [],
   "source": [
    "# Import player data and historical results for all countries\n",
    "raw_data_path = 'data/'\n",
    "\n",
    "prior = pd.read_csv(raw_data_path + 'results.csv')\n",
    "fifa_dataset = pd.read_csv(raw_data_path + 'CompleteDataset.csv')\n",
    "tournament_schedule = pd.read_csv(raw_data_path + 'schedule')\n",
    "# drop unwanted fields from both data sets\n",
    "# fifa_dataset.drop(labels = ['Unnamed: 0', 'Age', 'Photo', 'Flag', 'Club', 'Club Logo', 'Wage'], axis = 1, inplace = True)\n",
    "prior.drop(labels = ['city', 'country', 'tournament'], axis = 1, inplace = True)\n",
    "prior = prior[prior.date > '1990-01-01']\n",
    "\n",
    "\n",
    "# only interested in countries that are qualified for the WC\n",
    "# maybe reduce this to 16 countries post group stage for faster computation (other 2^32 simulations)\n",
    "qualified_countries = ['Egypt', 'Morocco', 'Nigeria', 'Senegal', 'Tunisia', 'Australia', 'Iran', 'Japan', 'Korea Republic', 'Saudi Arabia', 'Belgium', 'Croatia', 'Denmark', 'England', 'France', 'Germany', 'Iceland', 'Poland', 'Portugal', 'Russia', 'Serbia', 'Spain', 'Sweden', 'Switzerland', 'Costa Rica', 'Mexico', 'Panama', 'Argentina', 'Brazil', 'Colombia', 'Peru', 'Uruguay']\n",
    "\n",
    "groupA = ['Russia'   , 'Saudi Arabia', 'Egypt'     , 'Uruguay']\n",
    "groupB = ['Portugal' , 'Spain'       , 'Morocco'   , 'Iran']\n",
    "groupC = ['France'   , 'Australia'   , 'Peru'      , 'Denmark']\n",
    "groupD = ['Argentina', 'Iceland'     , 'Croatia'   , 'Nigeria']\n",
    "groupE = ['Brazil'   , 'Switzerland' , 'Costa Rica', 'Serbia' ]\n",
    "groupF = ['Germany'  , 'Mexico'      , 'Sweden'    , 'Korea Republic']\n",
    "groupG = ['Belgium'  , 'Panama'      , 'Tunisia'   , 'England']\n",
    "groupH = ['Poland'   , 'Senegal'     , 'Colombia'  , 'Japan']\n",
    "\n",
    "groups = [groupA, groupB, groupC, groupD, groupE, groupF, groupG, groupH]"
   ]
  },
  {
   "cell_type": "code",
   "execution_count": null,
   "metadata": {
    "collapsed": true
   },
   "outputs": [],
   "source": [
    "for g1, g2 in groups:\n",
    "    "
   ]
  }
 ],
 "metadata": {
  "kernelspec": {
   "display_name": "Python 2",
   "language": "python",
   "name": "python2"
  },
  "language_info": {
   "codemirror_mode": {
    "name": "ipython",
    "version": 2
   },
   "file_extension": ".py",
   "mimetype": "text/x-python",
   "name": "python",
   "nbconvert_exporter": "python",
   "pygments_lexer": "ipython2",
   "version": "2.7.14"
  }
 },
 "nbformat": 4,
 "nbformat_minor": 2
}
