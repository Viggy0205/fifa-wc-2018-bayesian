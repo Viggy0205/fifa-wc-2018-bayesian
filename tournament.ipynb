{
 "cells": [
  {
   "cell_type": "code",
   "execution_count": 1,
   "metadata": {
    "collapsed": true
   },
   "outputs": [],
   "source": [
    "import numpy as np\n",
    "import pandas as pd\n",
    "from itertools import product, combinations, permutations\n",
    "#%%!from scikit import \n"
   ]
  },
  {
   "cell_type": "code",
   "execution_count": 6,
   "metadata": {},
   "outputs": [],
   "source": [
    "# Import player data and historical results for all countries\n",
    "raw_data_path = 'data/'\n",
    "\n",
    "prior = pd.read_csv(raw_data_path + 'results.csv')\n",
    "fifa_dataset = pd.read_csv(raw_data_path + 'CompleteDataset.csv')\n",
    "schedule = pd.read_csv(raw_data_path + 'schedule-fifa-wc-2018.csv')\n",
    "# drop unwanted fields from both data sets\n",
    "# fifa_dataset.drop(labels = ['Unnamed: 0', 'Age', 'Photo', 'Flag', 'Club', 'Club Logo', 'Wage'], axis = 1, inplace = True)\n",
    "prior.drop(labels = ['city', 'country', 'tournament'], axis = 1, inplace = True)\n",
    "prior = prior[prior.date > '1990-01-01']\n",
    "\n",
    "\n",
    "# only interested in countries that are qualified for the WC\n",
    "# maybe reduce this to 16 countries post group stage for faster computation (other 2^32 simulations)\n",
    "qualified_countries = ['Egypt', 'Morocco', 'Nigeria', 'Senegal', 'Tunisia', 'Australia', 'Iran', 'Japan', 'Korea Republic', 'Saudi Arabia', 'Belgium', 'Croatia', 'Denmark', 'England', 'France', 'Germany', 'Iceland', 'Poland', 'Portugal', 'Russia', 'Serbia', 'Spain', 'Sweden', 'Switzerland', 'Costa Rica', 'Mexico', 'Panama', 'Argentina', 'Brazil', 'Colombia', 'Peru', 'Uruguay']\n",
    "\n",
    "groupA = ['Russia'   , 'Saudi Arabia', 'Egypt'     , 'Uruguay']\n",
    "groupB = ['Portugal' , 'Spain'       , 'Morocco'   , 'Iran']\n",
    "groupC = ['France'   , 'Australia'   , 'Peru'      , 'Denmark']\n",
    "groupD = ['Argentina', 'Iceland'     , 'Croatia'   , 'Nigeria']\n",
    "groupE = ['Brazil'   , 'Switzerland' , 'Costa Rica', 'Serbia' ]\n",
    "groupF = ['Germany'  , 'Mexico'      , 'Sweden'    , 'Korea Republic']\n",
    "groupG = ['Belgium'  , 'Panama'      , 'Tunisia'   , 'England']\n",
    "groupH = ['Poland'   , 'Senegal'     , 'Colombia'  , 'Japan']\n",
    "\n",
    "groups = [groupA, groupB, groupC, groupD, groupE, groupF, groupG, groupH]"
   ]
  },
  {
   "cell_type": "code",
   "execution_count": 8,
   "metadata": {},
   "outputs": [
    {
     "name": "stdout",
     "output_type": "stream",
     "text": [
      "  Round Number              Date                  Location   Home Team  \\\n",
      "0            1  14/06/2018 18:00  Luzhniki Stadium, Moscow      Russia   \n",
      "1            1  15/06/2018 15:00      Ekaterinburg Stadium       Egypt   \n",
      "2            1  15/06/2018 18:00  Saint Petersburg Stadium     Morocco   \n",
      "3            1  15/06/2018 21:00      Fisht Stadium, Sochi    Portugal   \n",
      "4            1  16/06/2018 13:00               Kazan Arena      France   \n",
      "5            1  16/06/2018 16:00   Otkrytiye Arena, Moscow   Argentina   \n",
      "6            1  16/06/2018 19:00           Saransk Stadium        Peru   \n",
      "7            1  16/06/2018 22:00       Kaliningrad Stadium     Croatia   \n",
      "8            1  17/06/2018 15:00            Samara Stadium  Costa Rica   \n",
      "9            1  17/06/2018 18:00  Luzhniki Stadium, Moscow     Germany   \n",
      "\n",
      "      Away Team    Group  Result  \n",
      "0  Saudi Arabia  Group A     NaN  \n",
      "1       Uruguay  Group A     NaN  \n",
      "2          Iran  Group B     NaN  \n",
      "3         Spain  Group B     NaN  \n",
      "4     Australia  Group C     NaN  \n",
      "5       Iceland  Group D     NaN  \n",
      "6       Denmark  Group C     NaN  \n",
      "7       Nigeria  Group D     NaN  \n",
      "8        Serbia  Group E     NaN  \n",
      "9        Mexico  Group F     NaN  \n"
     ]
    }
   ],
   "source": [
    "#for g1, g2 in groups:\n",
    "print schedule.head(10)   "
   ]
  },
  {
   "cell_type": "code",
   "execution_count": null,
   "metadata": {
    "collapsed": true
   },
   "outputs": [],
   "source": []
  }
 ],
 "metadata": {
  "kernelspec": {
   "display_name": "Python 2",
   "language": "python",
   "name": "python2"
  },
  "language_info": {
   "codemirror_mode": {
    "name": "ipython",
    "version": 2
   },
   "file_extension": ".py",
   "mimetype": "text/x-python",
   "name": "python",
   "nbconvert_exporter": "python",
   "pygments_lexer": "ipython2",
   "version": "2.7.14"
  }
 },
 "nbformat": 4,
 "nbformat_minor": 2
}
