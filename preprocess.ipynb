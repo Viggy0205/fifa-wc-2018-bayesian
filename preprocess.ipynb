{
 "cells": [
  {
   "cell_type": "code",
   "execution_count": 1,
   "metadata": {
    "collapsed": true
   },
   "outputs": [],
   "source": [
    "import numpy as np\n",
    "import pandas as pd\n",
    "import csv\n",
    "from sklearn.utils import shuffle\n"
   ]
  },
  {
   "cell_type": "code",
   "execution_count": 7,
   "metadata": {},
   "outputs": [],
   "source": [
    "# Import player data and historical results for all countries\n",
    "raw_data_path = 'data/'\n",
    "\n",
    "prior = pd.read_csv(raw_data_path + 'results.csv')\n",
    "fifa_dataset = pd.read_csv(raw_data_path + 'CompleteDataset.csv')\n",
    "\n",
    "# drop unwanted fields from both data sets\n",
    "fifa_dataset.drop(labels = ['Unnamed: 0', 'Age', 'Photo', 'Flag', 'Club', 'Club Logo', 'Wage'], axis = 1, inplace = True)\n",
    "prior.drop(labels = ['city', 'country', 'tournament'], axis = 1, inplace = True)\n",
    "prior = prior[prior.date > '1990-01-01']\n",
    "\n",
    "\n",
    "# only interested in countries that are qualified for the WC\n",
    "# maybe reduce this to 16 countries post group stage for faster computation (other 2^32 simulations)\n",
    "qualified_countries = ['Egypt', 'Morocco', 'Nigeria', 'Senegal', 'Tunisia', 'Australia', 'Iran', 'Japan', 'Korea Republic', 'Saudi Arabia', 'Belgium', 'Croatia', 'Denmark', 'England', 'France', 'Germany', 'Iceland', 'Poland', 'Portugal', 'Russia', 'Serbia', 'Spain', 'Sweden', 'Switzerland', 'Costa Rica', 'Mexico', 'Panama', 'Argentina', 'Brazil', 'Colombia', 'Peru', 'Uruguay']"
   ]
  },
  {
   "cell_type": "code",
   "execution_count": 9,
   "metadata": {
    "collapsed": true
   },
   "outputs": [],
   "source": [
    "# get data for qualified countries only\n",
    "fifa_dataset = fifa_dataset[fifa_dataset['Nationality'].isin(qualified_countries)].fillna(0)\n",
    "prior = prior[(prior['home_team'].isin(qualified_countries) & prior['away_team'].isin(qualified_countries))]\n",
    "\n",
    "# get remaining potential\n",
    "fifa_dataset['Remaining Potential'] = fifa_dataset['Potential'] - fifa_dataset['Overall']\n",
    "\n",
    "# get only one preferred position (first only)\n",
    "# i wrote a function to get the position with max value - it's in archives -- but this is simpler\n",
    "fifa_dataset['Preferred Position'] = fifa_dataset['Preferred Positions'].str.split().str[0]"
   ]
  },
  {
   "cell_type": "code",
   "execution_count": 5,
   "metadata": {
    "collapsed": true
   },
   "outputs": [],
   "source": [
    "# set the general formations for squads to get the max potential \n",
    "squad_352_strict = ['GK', 'LB|LWB', 'CB', 'RB|RWB', 'LM|W$', 'RM|W$', 'CM', 'CM|CAM|CDM', 'CM|CAM|CDM', 'W$|T$', 'W$|T$']\n",
    "squad_442_strict = ['GK', 'LB|LWB', 'CB', 'CB', 'RB|RWB', 'LM|W$', 'RM|W$', 'CM', 'CM|CAM|CDM', 'W$|T$', 'W$|T$']\n",
    "squad_433_strict = ['GK', 'LB|LWB', 'CB', 'CB', 'RB|RWB', 'CM|LM|W$', 'CM|RM|W$', 'CM|CAM|CDM', 'W$|T$', 'W$|T$', 'W$|T$']\n",
    "squad_343_strict = ['GK', 'LB|LWB', 'CB', 'RB|RWB', 'LM|W$', 'RM|W$', 'CM|CAM|CDM', 'CM|CAM|CDM', 'W$|T$', 'W$|T$', 'W$|T$']\n",
    "squad_532_strict = ['GK', 'LB|LWB', 'CB|LWB|RWB', 'CB|LWB|RWB', 'CB|LWB|RWB', 'RB|RWB', 'M$|W$', 'M$|W$', 'M$|W$', 'W$|T$', 'W$|T$']\n",
    "\n",
    "squad_352_adj = ['GK', 'B$', 'B$', 'B$', 'M$|W$|T$', 'M$|W$|T$', 'M$|W$|T$', 'M$|W$|T$', 'M$|W$|T$', 'W$|T$|M$', 'W$|T$|M$']\n",
    "squad_442_adj = ['GK', 'B$', 'B$', 'B$', 'B$', 'M$|W$|T$', 'M$|W$|T$', 'M$|W$|T$', 'M$|W$|T$', 'W$|T$|M$', 'W$|T$|M$']\n",
    "squad_433_adj = ['GK', 'B$', 'B$', 'B$', 'B$', 'M$|W$|T$', 'M$|W$|T$', 'M$|W$|T$', 'W$|T$|M$', 'W$|T$|M$', 'W$|T$|M$']\n",
    "squad_343_adj = ['GK', 'B$', 'B$', 'B$', 'M$|W$|T$', 'M$|W$|T$', 'M$|W$|T$', 'M$|W$|T$', 'W$|T$|M$', 'W$|T$|M$', 'W$|T$|M$']\n",
    "squad_532_adj = ['GK', 'B$', 'B$', 'B$', 'B$', 'B$', 'M$|W$|T$', 'M$|W$|T$', 'M$|W$|T$', 'W$|T$|M$', 'W$|T$|M$']\n",
    "\n",
    "midfield = ['CDM', 'CM', 'RM', 'LM']\n",
    "defense = ['GK', 'LB', 'CB', 'RB', 'LWB', 'RWB']\n",
    "attack = ['LW', 'RW', 'ST', 'CAM']\n",
    "\n",
    "squad_list_strict = [squad_352_strict, squad_442_strict, squad_433_strict, squad_343_strict, squad_532_strict]\n",
    "squad_list_adj = [squad_352_adj, squad_442_adj, squad_433_adj, squad_343_adj, squad_532_adj]\n",
    "squad_name = ['3-5-2', '4-4-2', '4-3-3', '3-4-3', '5-3-2']"
   ]
  },
  {
   "cell_type": "code",
   "execution_count": 6,
   "metadata": {
    "collapsed": true
   },
   "outputs": [],
   "source": [
    "def get_country_roster(country):\n",
    "# get all players in a country\n",
    "    return fifa_dataset[fifa_dataset['Nationality'] == country]\n",
    "\n",
    "def get_best_squad_n(formation, nationality, df, measurement = 'Potential'):\n",
    "# finds the best 11 players given formation    \n",
    "# returns overall_squad_rating, squad_list, squad_stats (i.e. positions and ratings)\n",
    "    df_copy = df.copy()\n",
    "    df_copy = df_copy[df_copy['Nationality'] == nationality]\n",
    "    store = []\n",
    "    team = []\n",
    "    for i in formation:\n",
    "        store.append([df_copy.loc[[df_copy[df_copy['Preferred Position'].str.contains(i)][measurement].idxmax()]]['Preferred Position'].to_string(index = False), df_copy[df_copy['Preferred Position'].str.contains(i)][measurement].max()])\n",
    "        team.append(df_copy.loc[[df_copy[df_copy['Preferred Position'].str.contains(i)][measurement].idxmax()]]['Name'].to_string(index = False))\n",
    "        df_copy.drop(df_copy[df_copy['Preferred Position'].str.contains(i)][measurement].idxmax(), inplace = True)\n",
    "    return np.mean([x[1] for x in store]).round(2), np.array(team), pd.DataFrame(np.array(store).reshape(11,2), columns = ['Position', measurement]).to_string(index = False)\n",
    "\n",
    "def get_best_formation_all(squad_list, country):\n",
    "# finds the best formation for the given team \n",
    "# returns the best_rating, best_squad_list, best_formation, and squad_stats (i.e. positions and ratings)\n",
    "    best_rating = 0\n",
    "    best_squad, best_formation = [], []\n",
    "    for i, formation in enumerate(squad_list):\n",
    "        potRating, pot_squad, squad_info = get_best_squad_n(formation, country, fifa_dataset, 'Potential')\n",
    "        if potRating > best_rating:\n",
    "            best_rating = potRating\n",
    "            best_squad = pot_squad\n",
    "            best_formation = squad_name[i]\n",
    "    return best_rating, best_squad, best_formation, squad_info\n",
    "    \n",
    "def get_team_stats(squad_stats):\n",
    "# gets the stats for attack, defence and midfield for a team\n",
    "    midRating, defRating, attRating  = [], [], []\n",
    "    for player in squad_stats.split('\\n'):\n",
    "        pos, rating = player.split()[0], player.split()[-1]\n",
    "        if pos in midfield: midRating.append(float(rating))\n",
    "        if pos in defense: defRating.append(float(rating))\n",
    "        if pos in attack: attRating.append(float(rating))\n",
    "    return np.mean(midRating).round(2), np.mean(defRating).round(2), np.mean(attRating).round(2)"
   ]
  },
  {
   "cell_type": "code",
   "execution_count": 6,
   "metadata": {
    "collapsed": true,
    "scrolled": true
   },
   "outputs": [],
   "source": [
    "# create data-set with team information\n",
    "def generate_team_stats():\n",
    "    d = []\n",
    "    for country in qualified_countries:\n",
    "            best_rating, best_squad, best_formation, squad_stats = get_best_formation_all(squad_list_adj, country)\n",
    "            mid_rating, def_rating, att_rating = get_team_stats(squad_stats)\n",
    "            if best_rating > 84.0: tier = 1\n",
    "            elif best_rating > 77.0: tier = 2\n",
    "            else: tier = 3\n",
    "            d.append({'Country': country, 'Rating': best_rating, 'Squad': best_squad, 'Defence': def_rating, 'Midfield': mid_rating, 'Attack': att_rating, 'Formation': best_formation,'Tier': tier})\n",
    "\n",
    "    processed_data = pd.DataFrame(d).reindex_axis(['Country', 'Squad', 'Formation', 'Tier', 'Rating', 'Attack', 'Midfield', 'Defence'], axis = 1).set_index('Country')\n",
    "    processed_data.to_csv('data/WC18_processed.csv')\n",
    "    return processed_data\n",
    "\n",
    "# create data-set with historical data of match up for prior information\n",
    "\n"
   ]
  },
  {
   "cell_type": "code",
   "execution_count": 88,
   "metadata": {
    "collapsed": true
   },
   "outputs": [],
   "source": [
    "def get_competition_stats():\n",
    "    teams = []\n",
    "    seen = []\n",
    "    for countryA in qualified_countries:\n",
    "        for countryB in qualified_countries:\n",
    "            if (countryA == countryB) | ((countryB, countryA) in seen): continue\n",
    "            seen.append((countryA, countryB))\n",
    "            attA = float(pdata[pdata['Country'] == countryA].Attack.get_values())\n",
    "            defA = float(pdata[pdata['Country'] == countryA].Defence.get_values())\n",
    "            midA = float(pdata[pdata['Country'] == countryA].Midfield.get_values())\n",
    "            ratA = float(pdata[pdata['Country'] == countryA].Rating.get_values())\n",
    "            tierA = float(pdata[pdata['Country'] == countryA].Tier.get_values())\n",
    "            attB = float(pdata[pdata['Country'] == countryB].Attack.get_values())\n",
    "            defB = float(pdata[pdata['Country'] == countryB].Defence.get_values())\n",
    "            midB = float(pdata[pdata['Country'] == countryB].Midfield.get_values())\n",
    "            ratB = float(pdata[pdata['Country'] == countryB].Rating.get_values())\n",
    "            tierB = float(pdata[pdata['Country'] == countryB].Tier.get_values())\n",
    "            winA = float(np.sign((prdata[(prdata['CountryA'] == countryA) & (prdata['CountryB'] == countryB)].meanScoreA - prdata[(prdata['CountryA'] == countryA) & (prdata['CountryB'] == countryB)].meanScoreB)))\n",
    "            teams.append({'attA': attA, 'defA': defA, 'midA': midA, 'ratA':ratA, 'tierA': tierA, 'attB': attB, 'defB': defB, 'midB': midB, 'ratB':ratB, 'tierB': tierB, 'winA': winA })\n",
    "    competition_stats = pd.DataFrame(teams)\n",
    "#    competition_stats.to_csv('data/WC18_competition_stats.csv')\n",
    "    return competition_stats"
   ]
  },
  {
   "cell_type": "code",
   "execution_count": 96,
   "metadata": {},
   "outputs": [
    {
     "data": {
      "text/html": [
       "<div>\n",
       "<style>\n",
       "    .dataframe thead tr:only-child th {\n",
       "        text-align: right;\n",
       "    }\n",
       "\n",
       "    .dataframe thead th {\n",
       "        text-align: left;\n",
       "    }\n",
       "\n",
       "    .dataframe tbody tr th {\n",
       "        vertical-align: top;\n",
       "    }\n",
       "</style>\n",
       "<table border=\"1\" class=\"dataframe\">\n",
       "  <thead>\n",
       "    <tr style=\"text-align: right;\">\n",
       "      <th></th>\n",
       "      <th>attA</th>\n",
       "      <th>attB</th>\n",
       "      <th>defA</th>\n",
       "      <th>defB</th>\n",
       "      <th>midA</th>\n",
       "      <th>midB</th>\n",
       "      <th>ratA</th>\n",
       "      <th>ratB</th>\n",
       "      <th>tierA</th>\n",
       "      <th>tierB</th>\n",
       "      <th>winA</th>\n",
       "    </tr>\n",
       "  </thead>\n",
       "  <tbody>\n",
       "    <tr>\n",
       "      <th>165</th>\n",
       "      <td>77.33</td>\n",
       "      <td>72.00</td>\n",
       "      <td>77.50</td>\n",
       "      <td>68.17</td>\n",
       "      <td>78.5</td>\n",
       "      <td>71.67</td>\n",
       "      <td>77.82</td>\n",
       "      <td>70.91</td>\n",
       "      <td>2.0</td>\n",
       "      <td>3.0</td>\n",
       "      <td>1.0</td>\n",
       "    </tr>\n",
       "    <tr>\n",
       "      <th>282</th>\n",
       "      <td>90.33</td>\n",
       "      <td>91.67</td>\n",
       "      <td>86.33</td>\n",
       "      <td>87.50</td>\n",
       "      <td>91.0</td>\n",
       "      <td>88.50</td>\n",
       "      <td>88.64</td>\n",
       "      <td>89.09</td>\n",
       "      <td>1.0</td>\n",
       "      <td>1.0</td>\n",
       "      <td>0.0</td>\n",
       "    </tr>\n",
       "    <tr>\n",
       "      <th>398</th>\n",
       "      <td>88.50</td>\n",
       "      <td>85.00</td>\n",
       "      <td>81.67</td>\n",
       "      <td>80.33</td>\n",
       "      <td>85.0</td>\n",
       "      <td>83.75</td>\n",
       "      <td>84.64</td>\n",
       "      <td>82.45</td>\n",
       "      <td>1.0</td>\n",
       "      <td>2.0</td>\n",
       "      <td>-1.0</td>\n",
       "    </tr>\n",
       "  </tbody>\n",
       "</table>\n",
       "</div>"
      ],
      "text/plain": [
       "      attA   attB   defA   defB  midA   midB   ratA   ratB  tierA  tierB  winA\n",
       "165  77.33  72.00  77.50  68.17  78.5  71.67  77.82  70.91    2.0    3.0   1.0\n",
       "282  90.33  91.67  86.33  87.50  91.0  88.50  88.64  89.09    1.0    1.0   0.0\n",
       "398  88.50  85.00  81.67  80.33  85.0  83.75  84.64  82.45    1.0    2.0  -1.0"
      ]
     },
     "execution_count": 96,
     "metadata": {},
     "output_type": "execute_result"
    }
   ],
   "source": [
    "#c_stats = get_competition_stats()\n",
    "shuffle(c_stats).head(3)"
   ]
  },
  {
   "cell_type": "code",
   "execution_count": 93,
   "metadata": {},
   "outputs": [
    {
     "name": "stdout",
     "output_type": "stream",
     "text": [
      "0 Egypt\n",
      "1 Morocco\n",
      "2 Nigeria\n",
      "3 Senegal\n",
      "4 Tunisia\n",
      "5 Australia\n",
      "6 Iran\n",
      "7 Japan\n",
      "8 Korea Republic\n",
      "9 Saudi Arabia\n",
      "10 Belgium\n",
      "11 Croatia\n",
      "12 Denmark\n",
      "13 England\n",
      "14 France\n",
      "15 Germany\n",
      "16 Iceland\n",
      "17 Poland\n",
      "18 Portugal\n",
      "19 Russia\n",
      "20 Serbia\n",
      "21 Spain\n",
      "22 Sweden\n",
      "23 Switzerland\n",
      "24 Costa Rica\n",
      "25 Mexico\n",
      "26 Panama\n",
      "27 Argentina\n",
      "28 Brazil\n",
      "29 Colombia\n",
      "30 Peru\n",
      "31 Uruguay\n"
     ]
    }
   ],
   "source": [
    "pdata = pd.read_csv('data/WC18_processed.csv')\n",
    "prdata = pd.read_csv('data/WC18_prior.csv')\n",
    "for i, c in enumerate(qualified_countries): print i,c"
   ]
  },
  {
   "cell_type": "code",
   "execution_count": 98,
   "metadata": {},
   "outputs": [
    {
     "data": {
      "text/plain": [
       "(12016, 70)"
      ]
     },
     "execution_count": 98,
     "metadata": {},
     "output_type": "execute_result"
    }
   ],
   "source": [
    "fifa_dataset.shape"
   ]
  },
  {
   "cell_type": "code",
   "execution_count": 99,
   "metadata": {},
   "outputs": [
    {
     "data": {
      "text/plain": [
       "(1880, 5)"
      ]
     },
     "execution_count": 99,
     "metadata": {},
     "output_type": "execute_result"
    }
   ],
   "source": [
    "prior.shape"
   ]
  },
  {
   "cell_type": "code",
   "execution_count": 100,
   "metadata": {
    "collapsed": true
   },
   "outputs": [],
   "source": [
    "def _mapper(ids):\n",
    "    qualified_countries = ['Egypt', 'Morocco', 'Nigeria', 'Senegal', 'Tunisia', 'Australia', 'Iran', 'Japan', 'Korea Republic', 'Saudi Arabia', 'Belgium', 'Croatia', 'Denmark', 'England', 'France', 'Germany', 'Iceland', 'Poland', 'Portugal', 'Russia', 'Serbia', 'Spain', 'Sweden', 'Switzerland', 'Costa Rica', 'Mexico', 'Panama', 'Argentina', 'Brazil', 'Colombia', 'Peru', 'Uruguay']\n",
    "    return [qualified_countries[i] for i in ids]\n",
    "    \n",
    "    "
   ]
  },
  {
   "cell_type": "code",
   "execution_count": 102,
   "metadata": {},
   "outputs": [
    {
     "data": {
      "text/plain": [
       "['Serbia']"
      ]
     },
     "execution_count": 102,
     "metadata": {},
     "output_type": "execute_result"
    }
   ],
   "source": [
    "_mapper([20])"
   ]
  },
  {
   "cell_type": "code",
   "execution_count": null,
   "metadata": {
    "collapsed": true
   },
   "outputs": [],
   "source": []
  }
 ],
 "metadata": {
  "kernelspec": {
   "display_name": "Python 2",
   "language": "python",
   "name": "python2"
  },
  "language_info": {
   "codemirror_mode": {
    "name": "ipython",
    "version": 2
   },
   "file_extension": ".py",
   "mimetype": "text/x-python",
   "name": "python",
   "nbconvert_exporter": "python",
   "pygments_lexer": "ipython2",
   "version": "2.7.14"
  }
 },
 "nbformat": 4,
 "nbformat_minor": 2
}
